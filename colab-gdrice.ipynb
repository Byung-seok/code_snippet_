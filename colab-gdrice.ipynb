{
  "nbformat": 4,
  "nbformat_minor": 0,
  "metadata": {
    "colab": {
      "name": "Untitled0.ipynb",
      "provenance": [],
      "authorship_tag": "ABX9TyOA8fu5ukHcAi+dM0iI1lZY",
      "include_colab_link": true
    },
    "kernelspec": {
      "name": "python3",
      "display_name": "Python 3"
    },
    "language_info": {
      "name": "python"
    }
  },
  "cells": [
    {
      "cell_type": "markdown",
      "metadata": {
        "id": "view-in-github",
        "colab_type": "text"
      },
      "source": [
        "<a href=\"https://colab.research.google.com/github/Byung-seok/code_snippet_/blob/main/Untitled0.ipynb\" target=\"_parent\"><img src=\"https://colab.research.google.com/assets/colab-badge.svg\" alt=\"Open In Colab\"/></a>"
      ]
    },
    {
      "cell_type": "code",
      "execution_count": null,
      "metadata": {
        "id": "sDVq9363aF5x"
      },
      "outputs": [],
      "source": [
        "import pandas as pd\n",
        "import io\n",
        "from google.colab import files\n",
        "from google.colab import drive\n",
        "from os import path\n",
        "\n",
        "uploaded = files.upload()\n",
        "\n",
        "for fn in uploaded.keys():\n",
        "    print('User uploaded file \"{name} with length {length} bytes'.format(name = fn, length = len(uploaded[fn])))\n",
        "\n",
        "raw_dataset = pd.read_csv(io.StringIO(uploaded['filename.csv'].decode('cp949')))\n",
        "raw_dataset.to_csv('./gdrive/My Drive/Colab Notebooks/wb.csv', index = False)\n",
        "\n",
        "notebooks_dir_name = 'Colab Notebooks'\n",
        "drive.mount('/content/gdrive')\n",
        "notebooks_base_dir = path.join('./gdrive/My Drive/', notebooks_dir_name)\n",
        "if not path.exists(notebooks_base_dir):\n",
        "    print('Check your google drive directory. See you file explorer')\n",
        "\n",
        "raw_dataset.to_csv('./gdrive/My Drive/Colab Notebooks/filename', index = False)"
      ]
    }
  ]
}
